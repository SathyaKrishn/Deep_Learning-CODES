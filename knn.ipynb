{
 "cells": [
  {
   "cell_type": "code",
   "execution_count": 101,
   "id": "c7f3a313",
   "metadata": {},
   "outputs": [],
   "source": [
    "import numpy as np\n",
    "import pandas as pd\n",
    "from sklearn.neighbors import KNeighborsClassifier\n",
    "from sklearn.model_selection import train_test_split\n",
    "from sklearn import metrics"
   ]
  },
  {
   "cell_type": "code",
   "execution_count": 102,
   "id": "b9dcd26c",
   "metadata": {},
   "outputs": [],
   "source": [
    "names=['sepal-length','sepal-width','petal-length','petal-width','class']"
   ]
  },
  {
   "cell_type": "code",
   "execution_count": 103,
   "id": "17dd9cd8",
   "metadata": {},
   "outputs": [
    {
     "name": "stdout",
     "output_type": "stream",
     "text": [
      "   sepal-length  sepal-width  petal-length  petal-width        class\n",
      "0           5.1          3.5           1.4          0.2  Iris-setosa\n",
      "1           4.9          3.0           1.4          0.2  Iris-setosa\n",
      "2           4.7          3.2           1.3          0.2  Iris-setosa\n",
      "3           4.6          3.1           1.5          0.2  Iris-setosa\n",
      "4           5.0          3.6           1.4          0.2  Iris-setosa\n"
     ]
    }
   ],
   "source": [
    "ds=pd.read_csv(\"Iris.csv\",names=names)\n",
    "print(ds.head())"
   ]
  },
  {
   "cell_type": "code",
   "execution_count": 104,
   "id": "01709195",
   "metadata": {},
   "outputs": [
    {
     "name": "stdout",
     "output_type": "stream",
     "text": [
      "   sepal-length  sepal-width  petal-length  petal-width\n",
      "0           5.1          3.5           1.4          0.2\n",
      "1           4.9          3.0           1.4          0.2\n",
      "2           4.7          3.2           1.3          0.2\n",
      "3           4.6          3.1           1.5          0.2\n",
      "4           5.0          3.6           1.4          0.2\n"
     ]
    }
   ],
   "source": [
    "X=ds.iloc[:,:-1]\n",
    "y=ds.iloc[:,-1]\n",
    "print(X.head())\n"
   ]
  },
  {
   "cell_type": "code",
   "execution_count": 111,
   "id": "9d50ff31",
   "metadata": {},
   "outputs": [],
   "source": [
    "X_train,X_test,y_train,y_test=train_test_split(X,y,test_size=0.3) \n",
    "KNN=KNeighborsClassifier(n_neighbors=7).fit(X_train,y_train)"
   ]
  },
  {
   "cell_type": "code",
   "execution_count": 112,
   "id": "357890dd",
   "metadata": {},
   "outputs": [],
   "source": [
    "y_pred=KNN.predict(X_test)"
   ]
  },
  {
   "cell_type": "code",
   "execution_count": 113,
   "id": "11fc282d",
   "metadata": {},
   "outputs": [
    {
     "data": {
      "text/plain": [
       "array(['Iris-versicolor', 'Iris-virginica', 'Iris-virginica',\n",
       "       'Iris-versicolor', 'Iris-versicolor', 'Iris-setosa', 'Iris-setosa',\n",
       "       'Iris-versicolor', 'Iris-setosa', 'Iris-virginica', 'Iris-setosa',\n",
       "       'Iris-virginica', 'Iris-setosa', 'Iris-virginica',\n",
       "       'Iris-versicolor', 'Iris-setosa', 'Iris-versicolor',\n",
       "       'Iris-versicolor', 'Iris-setosa', 'Iris-virginica',\n",
       "       'Iris-virginica', 'Iris-virginica', 'Iris-setosa',\n",
       "       'Iris-versicolor', 'Iris-virginica', 'Iris-versicolor',\n",
       "       'Iris-setosa', 'Iris-versicolor', 'Iris-versicolor',\n",
       "       'Iris-virginica', 'Iris-versicolor', 'Iris-versicolor',\n",
       "       'Iris-versicolor', 'Iris-setosa', 'Iris-virginica',\n",
       "       'Iris-virginica', 'Iris-setosa', 'Iris-setosa', 'Iris-versicolor',\n",
       "       'Iris-virginica', 'Iris-versicolor', 'Iris-versicolor',\n",
       "       'Iris-virginica', 'Iris-versicolor', 'Iris-versicolor'],\n",
       "      dtype=object)"
      ]
     },
     "execution_count": 113,
     "metadata": {},
     "output_type": "execute_result"
    }
   ],
   "source": [
    "y_pred"
   ]
  },
  {
   "cell_type": "code",
   "execution_count": 114,
   "id": "986f7d04",
   "metadata": {},
   "outputs": [
    {
     "name": "stdout",
     "output_type": "stream",
     "text": [
      "Original Label            Predicted Label           Correct/Wrong            \n",
      "\n",
      "\n",
      "Iris-versicolor           Iris-versicolor          Correct                  \n",
      "Iris-virginica            Iris-virginica           Correct                  \n",
      "Iris-virginica            Iris-virginica           Correct                  \n",
      "Iris-virginica            Iris-versicolor          Wrong                    \n",
      "Iris-versicolor           Iris-versicolor          Correct                  \n",
      "Iris-setosa               Iris-setosa              Correct                  \n",
      "Iris-setosa               Iris-setosa              Correct                  \n",
      "Iris-versicolor           Iris-versicolor          Correct                  \n",
      "Iris-setosa               Iris-setosa              Correct                  \n",
      "Iris-virginica            Iris-virginica           Correct                  \n",
      "Iris-setosa               Iris-setosa              Correct                  \n",
      "Iris-virginica            Iris-virginica           Correct                  \n",
      "Iris-setosa               Iris-setosa              Correct                  \n",
      "Iris-virginica            Iris-virginica           Correct                  \n",
      "Iris-versicolor           Iris-versicolor          Correct                  \n",
      "Iris-setosa               Iris-setosa              Correct                  \n",
      "Iris-versicolor           Iris-versicolor          Correct                  \n",
      "Iris-versicolor           Iris-versicolor          Correct                  \n",
      "Iris-setosa               Iris-setosa              Correct                  \n",
      "Iris-virginica            Iris-virginica           Correct                  \n",
      "Iris-virginica            Iris-virginica           Correct                  \n",
      "Iris-virginica            Iris-virginica           Correct                  \n",
      "Iris-setosa               Iris-setosa              Correct                  \n",
      "Iris-versicolor           Iris-versicolor          Correct                  \n",
      "Iris-virginica            Iris-virginica           Correct                  \n",
      "Iris-versicolor           Iris-versicolor          Correct                  \n",
      "Iris-setosa               Iris-setosa              Correct                  \n",
      "Iris-versicolor           Iris-versicolor          Correct                  \n",
      "Iris-versicolor           Iris-versicolor          Correct                  \n",
      "Iris-virginica            Iris-virginica           Correct                  \n",
      "Iris-versicolor           Iris-versicolor          Correct                  \n",
      "Iris-versicolor           Iris-versicolor          Correct                  \n",
      "Iris-versicolor           Iris-versicolor          Correct                  \n",
      "Iris-setosa               Iris-setosa              Correct                  \n",
      "Iris-virginica            Iris-virginica           Correct                  \n",
      "Iris-virginica            Iris-virginica           Correct                  \n",
      "Iris-setosa               Iris-setosa              Correct                  \n",
      "Iris-setosa               Iris-setosa              Correct                  \n",
      "Iris-versicolor           Iris-versicolor          Correct                  \n",
      "Iris-virginica            Iris-virginica           Correct                  \n",
      "Iris-versicolor           Iris-versicolor          Correct                  \n",
      "Iris-versicolor           Iris-versicolor          Correct                  \n",
      "Iris-virginica            Iris-virginica           Correct                  \n",
      "Iris-versicolor           Iris-versicolor          Correct                  \n",
      "Iris-versicolor           Iris-versicolor          Correct                  \n"
     ]
    }
   ],
   "source": [
    "i=0\n",
    "print('%-25s %-25s %-25s'%('Original Label','Predicted Label','Correct/Wrong'))\n",
    "print('\\n')\n",
    "for label in y_test:\n",
    "    print('%-25s %-25s'%(label,y_pred[i]),end=\"\")\n",
    "    if(label==y_pred[i]):\n",
    "        print('%-25s'%('Correct'))\n",
    "    else:\n",
    "        print('%-25s'%('Wrong'))\n",
    "    i=i+1"
   ]
  },
  {
   "cell_type": "code",
   "execution_count": 115,
   "id": "bb7e646f",
   "metadata": {},
   "outputs": [
    {
     "name": "stdout",
     "output_type": "stream",
     "text": [
      "Confusion Matrix:\n",
      " [[12  0  0]\n",
      " [ 0 18  0]\n",
      " [ 0  1 14]]\n",
      "\n",
      "\n",
      "Classification Report:\n",
      "                  precision    recall  f1-score   support\n",
      "\n",
      "    Iris-setosa       1.00      1.00      1.00        12\n",
      "Iris-versicolor       0.95      1.00      0.97        18\n",
      " Iris-virginica       1.00      0.93      0.97        15\n",
      "\n",
      "       accuracy                           0.98        45\n",
      "      macro avg       0.98      0.98      0.98        45\n",
      "   weighted avg       0.98      0.98      0.98        45\n",
      "\n",
      "\n",
      "Accuracy of the classifer is 0.98\n"
     ]
    }
   ],
   "source": [
    "print(\"Confusion Matrix:\\n\",metrics.confusion_matrix(y_test, y_pred))  \n",
    "print(\"\\n\\nClassification Report:\\n\",metrics.classification_report(y_test, y_pred)) \n",
    "print('\\nAccuracy of the classifer is %0.2f'%metrics.accuracy_score(y_test,y_pred))"
   ]
  },
  {
   "cell_type": "code",
   "execution_count": null,
   "id": "a47f4523",
   "metadata": {},
   "outputs": [],
   "source": []
  }
 ],
 "metadata": {
  "kernelspec": {
   "display_name": "Python 3 (ipykernel)",
   "language": "python",
   "name": "python3"
  },
  "language_info": {
   "codemirror_mode": {
    "name": "ipython",
    "version": 3
   },
   "file_extension": ".py",
   "mimetype": "text/x-python",
   "name": "python",
   "nbconvert_exporter": "python",
   "pygments_lexer": "ipython3",
   "version": "3.9.7"
  }
 },
 "nbformat": 4,
 "nbformat_minor": 5
}
