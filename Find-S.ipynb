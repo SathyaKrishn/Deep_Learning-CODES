{
 "cells": [
  {
   "cell_type": "code",
   "execution_count": 3,
   "id": "8bbf1987",
   "metadata": {},
   "outputs": [
    {
     "name": "stdout",
     "output_type": "stream",
     "text": [
      "Dataset is:\n",
      "\n",
      "      Time Weather Temperature Company Humidity    Wind Goes\n",
      "0  Morning   Sunny        Warm     Yes     Mild  Strong  Yes\n",
      "1  Evening   Rainy        Cold      No     Mild  Normal   No\n",
      "2  Morning   Sunny    Moderate     Yes   Normal  Normal  Yes\n",
      "3  Evening   Sunny        Cold     Yes     High  Strong  Yes\n"
     ]
    }
   ],
   "source": [
    "import pandas as pd\n",
    "\n",
    "data=pd.read_csv(\"finds.csv\")\n",
    "print(\"Dataset is:\\n\")\n",
    "print(data)"
   ]
  },
  {
   "cell_type": "code",
   "execution_count": 7,
   "id": "ffd05c7a",
   "metadata": {},
   "outputs": [
    {
     "name": "stdout",
     "output_type": "stream",
     "text": [
      "The attributes in the datset are: \n",
      " [['Morning' 'Sunny' 'Warm' 'Yes' 'Mild' 'Strong']\n",
      " ['Evening' 'Rainy' 'Cold' 'No' 'Mild' 'Normal']\n",
      " ['Morning' 'Sunny' 'Moderate' 'Yes' 'Normal' 'Normal']\n",
      " ['Evening' 'Sunny' 'Cold' 'Yes' 'High' 'Strong']]\n"
     ]
    }
   ],
   "source": [
    "import numpy as np\n",
    "\n",
    "att=np.array(data)[:,:-1]\n",
    "print(\"The attributes in the datset are: \\n\",att)"
   ]
  },
  {
   "cell_type": "code",
   "execution_count": 8,
   "id": "8a3db33d",
   "metadata": {},
   "outputs": [
    {
     "name": "stdout",
     "output_type": "stream",
     "text": [
      "The target is: \n",
      " ['Yes' 'No' 'Yes' 'Yes']\n"
     ]
    }
   ],
   "source": [
    "trgt=np.array(data)[:,-1]\n",
    "print(\"The target is: \\n\",trgt)"
   ]
  },
  {
   "cell_type": "code",
   "execution_count": 17,
   "id": "f68510a2",
   "metadata": {},
   "outputs": [],
   "source": [
    "def train(c,t):\n",
    "    for i,out in enumerate(t):\n",
    "        if out==\"Yes\":\n",
    "            s_hyp=c[i].copy()\n",
    "            break\n",
    "             \n",
    "    for i,out in enumerate(c):\n",
    "        if t[i]==\"Yes\":\n",
    "            for x in range(len(s_hyp)):\n",
    "                if out[x]!=s_hyp[x]:\n",
    "                    s_hyp[x]='?'\n",
    "                else:\n",
    "                    pass\n",
    "                 \n",
    "    return s_hyp"
   ]
  },
  {
   "cell_type": "code",
   "execution_count": 18,
   "id": "fd071cd6",
   "metadata": {},
   "outputs": [
    {
     "name": "stdout",
     "output_type": "stream",
     "text": [
      "The final specific hypothesis is: ['?' 'Sunny' '?' 'Yes' '?' '?']\n"
     ]
    }
   ],
   "source": [
    "print(\"The final specific hypothesis is:\",train(att,trgt))"
   ]
  },
  {
   "cell_type": "code",
   "execution_count": 6,
   "id": "8ba0e9cf",
   "metadata": {},
   "outputs": [
    {
     "name": "stdout",
     "output_type": "stream",
     "text": [
      "Dataset is:\n",
      "\n",
      "      Time Weather Temperature Company Humidity    Wind Goes\n",
      "0  Morning   Sunny        Warm     Yes     Mild  Strong  Yes\n",
      "1  Evening   Rainy        Cold      No     Mild  Normal   No\n",
      "2  Morning   Sunny    Moderate     Yes   Normal  Normal  Yes\n",
      "3  Evening   Sunny        Cold     Yes     High  Strong  Yes\n",
      "\n",
      "The attributes in the datset are: \n",
      " [['Morning' 'Sunny' 'Warm' 'Yes' 'Mild' 'Strong']\n",
      " ['Evening' 'Rainy' 'Cold' 'No' 'Mild' 'Normal']\n",
      " ['Morning' 'Sunny' 'Moderate' 'Yes' 'Normal' 'Normal']\n",
      " ['Evening' 'Sunny' 'Cold' 'Yes' 'High' 'Strong']]\n",
      "\n",
      "The target is: \n",
      " ['Yes' 'No' 'Yes' 'Yes']\n",
      "\n",
      "\n",
      "The final specific hypothesis is: ['?' 'Sunny' '?' 'Yes' '?' '?']\n"
     ]
    }
   ],
   "source": [
    "import pandas as pd\n",
    "import numpy as np\n",
    "\n",
    "data=pd.read_csv(\"finds.csv\")\n",
    "print(\"Dataset is:\\n\")\n",
    "print(data)\n",
    "\n",
    "att=np.array(data)[:,:-1]\n",
    "print(\"\\nThe attributes in the datset are: \\n\",att)\n",
    "\n",
    "trgt=np.array(data)[:,-1]\n",
    "print(\"\\nThe target is: \\n\",trgt)\n",
    "\n",
    "def train(c,t):\n",
    "    for i,out in enumerate(t):\n",
    "        if out==\"Yes\":\n",
    "            s_hyp=c[i].copy()\n",
    "            break\n",
    "             \n",
    "    for i,out in enumerate(c):\n",
    "        if t[i]==\"Yes\":\n",
    "            for x in range(len(s_hyp)):\n",
    "                if out[x]!=s_hyp[x]:\n",
    "                    s_hyp[x]='?'\n",
    "                else:\n",
    "                    pass\n",
    "                 \n",
    "    return s_hyp\n",
    "\n",
    "print(\"\\n\\nThe final specific hypothesis is:\",train(att,trgt))"
   ]
  },
  {
   "cell_type": "code",
   "execution_count": null,
   "id": "1e3911fb",
   "metadata": {},
   "outputs": [],
   "source": []
  }
 ],
 "metadata": {
  "kernelspec": {
   "display_name": "Python 3 (ipykernel)",
   "language": "python",
   "name": "python3"
  },
  "language_info": {
   "codemirror_mode": {
    "name": "ipython",
    "version": 3
   },
   "file_extension": ".py",
   "mimetype": "text/x-python",
   "name": "python",
   "nbconvert_exporter": "python",
   "pygments_lexer": "ipython3",
   "version": "3.9.7"
  }
 },
 "nbformat": 4,
 "nbformat_minor": 5
}
