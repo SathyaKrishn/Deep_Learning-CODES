{
 "cells": [
  {
   "cell_type": "code",
   "execution_count": 3,
   "id": "bb0c25b7",
   "metadata": {},
   "outputs": [],
   "source": [
    "import numpy as np\n",
    "import matplotlib.pyplot as plt"
   ]
  },
  {
   "cell_type": "markdown",
   "id": "e3ce0584",
   "metadata": {},
   "source": [
    "# 1"
   ]
  },
  {
   "cell_type": "code",
   "execution_count": 1,
   "id": "5b9f3968",
   "metadata": {},
   "outputs": [
    {
     "name": "stdout",
     "output_type": "stream",
     "text": [
      "input y is:  0.64\n",
      "After applying binary sigmoidal activation function value is\n",
      "0.65\n",
      "After applying biploar sigmoidal activation function value is\n",
      "0.31\n"
     ]
    }
   ],
   "source": [
    "import numpy as np\n",
    "yi=(0.8*-0.2)+(0.3*0.3)+(0.2*0.8)+(0.6*0.5)+0.25\n",
    "print(\"input y is: \",yi)\n",
    "\n",
    "def binsig(x):\n",
    "    o=1/(1+np.exp(-x))\n",
    "    return round(o,2)\n",
    "\n",
    "def bipsig(x):\n",
    "    o1=(2/(1+np.exp(-x)))-1\n",
    "    return round(o1,2)\n",
    "\n",
    "print('After applying binary sigmoidal activation function value is')\n",
    "print(binsig(yi))\n",
    "print('After applying biploar sigmoidal activation function value is')\n",
    "print(bipsig(yi))"
   ]
  },
  {
   "cell_type": "markdown",
   "id": "f598017c",
   "metadata": {},
   "source": [
    "# 2"
   ]
  },
  {
   "cell_type": "code",
   "execution_count": 4,
   "id": "6fcc2165",
   "metadata": {},
   "outputs": [
    {
     "name": "stdout",
     "output_type": "stream",
     "text": [
      "Initial weights:  [[0. 0. 0.]]\n",
      "\n",
      "New weight  1 input vector: [[ 1.  1. -1.]]\n",
      "New weight  2 input vector: [[ 2.  0. -2.]]\n",
      "New weight  3 input vector: [[ 1.  1. -3.]]\n",
      "New weight  4 input vector: [[ 2.  2. -2.]]\n",
      "\n",
      "Final Weights:  [[ 2.  2. -2.]]\n",
      "\n",
      "Decision boundary is:\n"
     ]
    },
    {
     "data": {
      "text/plain": [
       "<matplotlib.collections.PathCollection at 0x1b4605f1c10>"
      ]
     },
     "execution_count": 4,
     "metadata": {},
     "output_type": "execute_result"
    },
    {
     "data": {
      "image/png": "[encoded data removed]",
      "text/plain": [
       "<Figure size 432x288 with 1 Axes>"
      ]
     },
     "metadata": {
      "needs_background": "light"
     },
     "output_type": "display_data"
    }
   ],
   "source": [
    "X1 = np.array([[-1 , -1, 1] ,\n",
    "     [-1 , 1 ,1] ,\n",
    "     [1 ,-1 , 1] ,\n",
    "     [1 , 1,  1]])\n",
    "w1=np.zeros((1,3))\n",
    "print(\"Initial weights: \",w1)\n",
    "y=[-1 , -1 , -1 , 1]\n",
    "print()\n",
    "i=0 \n",
    "while i<len(X1):\n",
    "    Wn=w1+np.multiply(np.transpose(X1[i]),y[i])\n",
    "    w1=Wn \n",
    "    print(\"New weight \",i+1,\"input vector:\",Wn)\n",
    "    i=i+1\n",
    "\n",
    "print(\"\\nFinal Weights: \",Wn)\n",
    "\n",
    "print(\"\\nDecision boundary is:\")\n",
    "x=np.linspace(-3,3,100)\n",
    "eqn=-x+1\n",
    "plt.plot(x,eqn,color='red')\n",
    "x1=[-1,-1,1,1]\n",
    "x2=[-1,1,1,-1]\n",
    "plt.scatter(x1,x2)"
   ]
  },
  {
   "cell_type": "markdown",
   "id": "d2a9e0ea",
   "metadata": {},
   "source": [
    "# 3"
   ]
  },
  {
   "cell_type": "code",
   "execution_count": 5,
   "id": "88f49c8b",
   "metadata": {},
   "outputs": [
    {
     "name": "stdout",
     "output_type": "stream",
     "text": [
      "Initial weights:  [[0. 0. 0.]]\n",
      "\n",
      "New weight  1 input : [[ 1.  1. -1.]]\n",
      "New weight  2 input : [[0. 2. 0.]]\n",
      "New weight  3 input : [[1. 1. 1.]]\n",
      "New weight  4 input : [[2. 2. 2.]]\n",
      "\n",
      "Final Weights:  [[2. 2. 2.]]\n",
      "\n",
      "Decision boundary is:\n"
     ]
    },
    {
     "data": {
      "text/plain": [
       "<matplotlib.collections.PathCollection at 0x1b460d9dd60>"
      ]
     },
     "execution_count": 5,
     "metadata": {},
     "output_type": "execute_result"
    },
    {
     "data": {
      "image/png": "[encoded data removed]",
      "text/plain": [
       "<Figure size 432x288 with 1 Axes>"
      ]
     },
     "metadata": {
      "needs_background": "light"
     },
     "output_type": "display_data"
    }
   ],
   "source": [
    "X = np.array([[-1 , -1, 1] ,\n",
    "     [-1 , 1 ,1] ,\n",
    "     [1 ,-1 , 1] ,\n",
    "     [1 , 1,  1]])\n",
    "W=np.zeros((1,3))\n",
    "print(\"Initial weights: \",W)\n",
    "y=[-1 , 1 , 1 , 1]\n",
    "print()\n",
    "i=0 \n",
    "while i<len(X):\n",
    "    Wn=W+np.multiply(np.transpose(X[i]),y[i])\n",
    "    W=Wn \n",
    "    print(\"New weight \",i+1,\"input :\",Wn)\n",
    "    i=i+1\n",
    "\n",
    "print(\"\\nFinal Weights: \",Wn)\n",
    "\n",
    "print(\"\\nDecision boundary is:\")\n",
    "x=np.linspace(-3,3,100)\n",
    "eqn=-x-1\n",
    "plt.plot(x,eqn,color='red')\n",
    "x1=[-1,-1,1,1]\n",
    "x2=[-1,1,1,-1]\n",
    "plt.scatter(x1,x2)"
   ]
  },
  {
   "cell_type": "markdown",
   "id": "de039e3d",
   "metadata": {},
   "source": [
    "# 4"
   ]
  },
  {
   "cell_type": "code",
   "execution_count": 6,
   "id": "01f19d00",
   "metadata": {},
   "outputs": [
    {
     "name": "stdout",
     "output_type": "stream",
     "text": [
      "Initial weights:  [[0. 0. 0.]]\n",
      "\n",
      "New weight  1 input vector: [[ 1.  1. -1.]]\n",
      "New weight  2 input vector: [[ 2.  0. -2.]]\n",
      "New weight  3 input vector: [[ 3. -1. -1.]]\n",
      "New weight  4 input vector: [[ 2. -2. -2.]]\n",
      "\n",
      "Final Weights:  [[ 2. -2. -2.]]\n",
      "\n",
      "Decision boundary is:\n"
     ]
    },
    {
     "data": {
      "text/plain": [
       "<matplotlib.collections.PathCollection at 0x1b460e196d0>"
      ]
     },
     "execution_count": 6,
     "metadata": {},
     "output_type": "execute_result"
    },
    {
     "data": {
      "image/png": "[encoded data removed]",
      "text/plain": [
       "<Figure size 432x288 with 1 Axes>"
      ]
     },
     "metadata": {
      "needs_background": "light"
     },
     "output_type": "display_data"
    }
   ],
   "source": [
    "X1 = np.array([[-1 , -1, 1] ,\n",
    "     [-1 , 1 ,1] ,\n",
    "     [1 ,-1 , 1] ,\n",
    "     [1 , 1,  1]])\n",
    "w=np.zeros((1,3))\n",
    "print(\"Initial weights: \",w)\n",
    "y=[-1 , -1 , 1 , -1]\n",
    "print()\n",
    "i=0 \n",
    "while i<len(X1):\n",
    "    Wn=w+np.multiply(np.transpose(X[i]),y[i])\n",
    "    w=Wn \n",
    "    print(\"New weight \",i+1,\"input vector:\",Wn)\n",
    "    i=i+1\n",
    "\n",
    "print(\"\\nFinal Weights: \",Wn)\n",
    "\n",
    "print(\"\\nDecision boundary is:\")\n",
    "x=np.linspace(-3,3,100)\n",
    "eqn=x-1\n",
    "plt.plot(x,eqn,color='red')\n",
    "x1=[-1,-1,1,1]\n",
    "x2=[-1,1,1,-1]\n",
    "plt.scatter(x1,x2)"
   ]
  },
  {
   "cell_type": "markdown",
   "id": "9b27b7c4",
   "metadata": {},
   "source": [
    "# 5"
   ]
  },
  {
   "cell_type": "code",
   "execution_count": 7,
   "id": "d8729a15",
   "metadata": {},
   "outputs": [
    {
     "name": "stdout",
     "output_type": "stream",
     "text": [
      "Initial weights:  [[0. 0. 0.]]\n",
      "\n",
      "New weight on applying  1 input vector: [[ 1.  1. -1.]]\n",
      "New weight on applying  2 input vector: [[0. 2. 0.]]\n",
      "New weight on applying  3 input vector: [[1. 1. 1.]]\n",
      "New weight on applying  4 input vector: [[0. 0. 0.]]\n",
      "\n",
      "Final Weights are:  [[0. 0. 0.]]\n",
      "No Solution exists for implementation of XOR using Hebb Net\n"
     ]
    }
   ],
   "source": [
    "X1 = np.array([[-1 , -1, 1] ,\n",
    "     [-1 , 1 ,1] ,\n",
    "     [1 ,-1 , 1] ,\n",
    "     [1 , 1,  1]])\n",
    "w=np.zeros((1,3))\n",
    "print(\"Initial weights: \",w)\n",
    "y=[-1 , 1 , 1 , -1]\n",
    "print()\n",
    "i=0 \n",
    "while i<len(X1):\n",
    "    Wn=w+np.multiply(np.transpose(X1[i]),y[i])\n",
    "    w=Wn \n",
    "    print(\"New weight on applying \",i+1,\"input vector:\",Wn)\n",
    "    i=i+1\n",
    "\n",
    "print(\"\\nFinal Weights are: \",Wn)\n",
    "print(\"No Solution exists for implementation of XOR using Hebb Net\")"
   ]
  },
  {
   "cell_type": "markdown",
   "id": "f6ddabb0",
   "metadata": {},
   "source": [
    "# 6"
   ]
  },
  {
   "cell_type": "code",
   "execution_count": 8,
   "id": "e3f879fb",
   "metadata": {},
   "outputs": [
    {
     "name": "stdout",
     "output_type": "stream",
     "text": [
      "Initial weights:  [[0. 0. 0. 0. 0. 0. 0. 0. 0. 0.]]\n",
      "\n",
      "New weight on applying  1 input vector: [[ 1.  1.  1. -1.  1. -1. -1.  1. -1.  1.]]\n",
      "New weight on applying  2 input vector: [[ 0.  0.  0. -2.  2.  0. -2.  0. -2.  0.]]\n",
      "\n",
      "Final Weights are:  [ 0.  0.  0. -2.  2.  0. -2.  0. -2.]\n"
     ]
    }
   ],
   "source": [
    "X1 = np.array([[1,1,1,-1,1,-1,-1,1,-1,1],\n",
    "              [1,1,1,1,-1,-1,1,1,1,1]])\n",
    "w=np.zeros((1,10))\n",
    "print(\"Initial weights: \",w)\n",
    "y=[1 , -1]\n",
    "print()\n",
    "i=0 \n",
    "while i<len(X1):\n",
    "    Wn=w+np.multiply(np.transpose(X1[i]),y[i])\n",
    "    w=Wn \n",
    "    print(\"New weight on applying \",i+1,\"input vector:\",Wn)\n",
    "    i=i+1\n",
    "\n",
    "Wn=Wn.ravel()\n",
    "Wn=Wn[0:9]\n",
    "print(\"\\nFinal Weights are: \",Wn)"
   ]
  },
  {
   "cell_type": "code",
   "execution_count": null,
   "id": "93d1d487",
   "metadata": {},
   "outputs": [],
   "source": []
  }
 ],
 "metadata": {
  "kernelspec": {
   "display_name": "Python 3 (ipykernel)",
   "language": "python",
   "name": "python3"
  },
  "language_info": {
   "codemirror_mode": {
    "name": "ipython",
    "version": 3
   },
   "file_extension": ".py",
   "mimetype": "text/x-python",
   "name": "python",
   "nbconvert_exporter": "python",
   "pygments_lexer": "ipython3",
   "version": "3.9.7"
  }
 },
 "nbformat": 4,
 "nbformat_minor": 5
}
