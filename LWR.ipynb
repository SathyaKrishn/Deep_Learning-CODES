{
 "cells": [
  {
   "cell_type": "code",
   "execution_count": 36,
   "id": "ecff930b",
   "metadata": {},
   "outputs": [],
   "source": [
    "import matplotlib.pyplot as plt\n",
    "import pandas as pd\n",
    "import numpy as np"
   ]
  },
  {
   "cell_type": "code",
   "execution_count": 37,
   "id": "c4894675",
   "metadata": {},
   "outputs": [],
   "source": [
    "def Kernel(point,xmat,k):\n",
    "    m,n=np.shape(xmat)\n",
    "    weights=np.mat(np.eye((m)))\n",
    "    for j in range(m):\n",
    "        diff=point-X[j]\n",
    "        weights[j,j]=np.exp(diff*diff.T/(-2.0*k**2))\n",
    "    return weights"
   ]
  },
  {
   "cell_type": "code",
   "execution_count": 38,
   "id": "b3a3d12d",
   "metadata": {},
   "outputs": [],
   "source": [
    "def LocalWeight(point,xmat,ymat,k):\n",
    "    w=Kernel(point,xmat,k)\n",
    "    W=(X.T*(w*X)).I*(X.T*(w*ymat.T))\n",
    "    return W"
   ]
  },
  {
   "cell_type": "code",
   "execution_count": 39,
   "id": "fe8c0c83",
   "metadata": {},
   "outputs": [],
   "source": [
    "def LWRegression(xmat,ymat,k):\n",
    "    m,n=np.shape(xmat)\n",
    "    ypred=np.zeros(m)\n",
    "    for i in range(m):\n",
    "        ypred[i]=xmat[i]*LocalWeight(xmat[i],xmat,ymat,k)\n",
    "    return ypred"
   ]
  },
  {
   "cell_type": "code",
   "execution_count": 40,
   "id": "ddef5397",
   "metadata": {},
   "outputs": [],
   "source": [
    "data=pd.read_csv('dataset.csv')\n",
    "total=np.array(data.total_bill)\n",
    "tip=np.array(data.tip)"
   ]
  },
  {
   "cell_type": "code",
   "execution_count": 41,
   "id": "53bae1db",
   "metadata": {},
   "outputs": [],
   "source": [
    "mtotal=np.mat(total)\n",
    "mtip=np.mat(tip)"
   ]
  },
  {
   "cell_type": "code",
   "execution_count": 42,
   "id": "480636b7",
   "metadata": {},
   "outputs": [],
   "source": [
    "m=np.shape(mtotal)[1]\n",
    "one_mat=np.mat(np.ones(m))\n",
    "X=np.hstack((one_mat.T,mtotal.T))"
   ]
  },
  {
   "cell_type": "code",
   "execution_count": 43,
   "id": "92fa3adf",
   "metadata": {},
   "outputs": [],
   "source": [
    "ypred=LWRegression(X,mtip,0.5)\n",
    "sort=X[:,1].argsort(0)\n",
    "xsort=X[sort][:,0]"
   ]
  },
  {
   "cell_type": "code",
   "execution_count": 44,
   "id": "5ba8c354",
   "metadata": {},
   "outputs": [
    {
     "data": {
      "image/png": "[encoded data removed]",
      "text/plain": [
       "<Figure size 432x288 with 1 Axes>"
      ]
     },
     "metadata": {
      "needs_background": "light"
     },
     "output_type": "display_data"
    }
   ],
   "source": [
    "plot=plt.figure()\n",
    "ax=plot.add_subplot(1,1,1)\n",
    "ax.scatter(total,tip,color='black')\n",
    "ax.plot(xsort[:,1],ypred[sort],color='red',linewidth=5)\n",
    "plt.xlabel('Total bill')\n",
    "plt.ylabel('Tip')\n",
    "plt.show()"
   ]
  },
  {
   "cell_type": "code",
   "execution_count": null,
   "id": "ccba74f7",
   "metadata": {},
   "outputs": [],
   "source": []
  }
 ],
 "metadata": {
  "kernelspec": {
   "display_name": "Python 3 (ipykernel)",
   "language": "python",
   "name": "python3"
  },
  "language_info": {
   "codemirror_mode": {
    "name": "ipython",
    "version": 3
   },
   "file_extension": ".py",
   "mimetype": "text/x-python",
   "name": "python",
   "nbconvert_exporter": "python",
   "pygments_lexer": "ipython3",
   "version": "3.9.7"
  }
 },
 "nbformat": 4,
 "nbformat_minor": 5
}
